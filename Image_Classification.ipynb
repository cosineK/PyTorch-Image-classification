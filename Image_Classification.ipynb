{
  "cells": [
    {
      "cell_type": "markdown",
      "metadata": {
        "id": "view-in-github",
        "colab_type": "text"
      },
      "source": [
        "<a href=\"https://colab.research.google.com/github/cosineK/PyTorch-Image-classification/blob/main/Image_Classification.ipynb\" target=\"_parent\"><img src=\"https://colab.research.google.com/assets/colab-badge.svg\" alt=\"Open In Colab\"/></a>"
      ]
    },
    {
      "cell_type": "code",
      "execution_count": null,
      "metadata": {
        "colab": {
          "base_uri": "https://localhost:8080/"
        },
        "id": "qYbkFXVPKltW",
        "outputId": "4761485a-f669-4d67-a4ea-672f690269c9"
      },
      "outputs": [
        {
          "output_type": "stream",
          "name": "stdout",
          "text": [
            "Drive already mounted at /content/drive; to attempt to forcibly remount, call drive.mount(\"/content/drive\", force_remount=True).\n"
          ]
        }
      ],
      "source": [
        "#mount drive - allows google collab to have access to the drive where the dataset\n",
        "#is stored.\n",
        "from google.colab import drive\n",
        "drive.mount('/content/drive')"
      ]
    },
    {
      "cell_type": "code",
      "execution_count": null,
      "metadata": {
        "id": "9YojgLypDmDW"
      },
      "outputs": [],
      "source": [
        "#load neccessary libraries\n",
        "import os\n",
        "import random\n",
        "import matplotlib.pyplot as plt\n",
        "import seaborn as sns\n",
        "import matplotlib.image as mpimg\n",
        "from PIL import Image\n",
        "\n",
        "\n",
        "from sklearn.metrics import confusion_matrix\n",
        "from sklearn.metrics import classification_report\n",
        "\n",
        "import torch\n",
        "import torch.nn as nn\n",
        "from torchvision import transforms\n",
        "from torchvision import datasets\n",
        "from torch.utils.data import DataLoader\n",
        "from torchsummary import summary\n",
        "from torchvision import models\n",
        "\n",
        "import warnings\n",
        "warnings.filterwarnings(\"ignore\")"
      ]
    },
    {
      "cell_type": "code",
      "execution_count": null,
      "metadata": {
        "id": "Th_Fdgzr8rz-"
      },
      "outputs": [],
      "source": [
        "train_dataset = \"/content/drive/MyDrive/NEU_2/train\"\n",
        "test_dataset = \"/content/drive/MyDrive/NEU_2/test\"\n",
        "val_dataset = \"/content/drive/MyDrive/NEU_2/valid\"\n",
        "\n",
        "#print(\"Train dataset: \", os.listdir(train_dataset))\n",
        "#print(\"Test dataset: \", os.listdir(test_dataset))\n",
        "#print(\"Validation dataset: \", os.listdir(val_dataset))\n",
        "\n",
        "CLASS_NAMES = os.listdir(train_dataset)"
      ]
    },
    {
      "cell_type": "code",
      "execution_count": null,
      "metadata": {
        "id": "BKuNBHJqiv2G"
      },
      "outputs": [],
      "source": [
        "#show training set images randomly\n",
        "def shw_img(data_dir, img_num):\n",
        "  cls_name = os.listdir(data_dir)\n",
        "  num_rows = int(img_num)\n",
        "  num_cols = int(img_num)\n",
        "  fig, axarr = plt.subplots(num_rows, num_cols, figsize=(10, 10))\n",
        "  for i in range(num_rows):\n",
        "    for j in range(num_cols):\n",
        "      class_num = random.randint(0, len(cls_name)-1)\n",
        "      img_name = random.choice(os.listdir(os.path.join(data_dir, cls_name[class_num])))\n",
        "      img_path = os.path.join(data_dir, cls_name[class_num], img_name)\n",
        "      img = mpimg.imread(img_path)\n",
        "\n",
        "      axarr[i,j].imshow(img, cmap = 'gray')\n",
        "      axarr[i,j].set_title(cls_name[class_num])\n",
        "      axarr[i,j].axis('off')\n",
        "\n",
        "  plt.show()\n",
        "\n",
        "shw_img(train_dataset, 3)\n",
        "\n",
        "\n"
      ]
    },
    {
      "cell_type": "code",
      "execution_count": null,
      "metadata": {
        "id": "VanzzDKfM4Jt"
      },
      "outputs": [],
      "source": [
        "#image preprocessing for train dataset and the validation dataset\n",
        "\n",
        "image_transforms = {\n",
        "    'training_transform': transforms.Compose([ #initate muliple transformation which be chained\n",
        "        transforms.Resize((224,224)), #resize each image pixel size to 224 by 224\n",
        "        transforms.RandomHorizontalFlip(), #flip image horizonatally\n",
        "        transforms.ColorJitter(), #applies colour transformation\n",
        "        transforms.RandomRotation(30), #rotates image at angle of 30 degree\n",
        "        transforms.ToTensor(), #converts to pytorch sensor\n",
        "        transforms.Normalize([0.5, 0.5, 0.5], [0.5, 0.5, 0.5]) #normalizing each channel in the converted data\n",
        "\n",
        "    ]),\n",
        "\n",
        "    'validation_transform': transforms.Compose([ #initate muliple transformation which be chained\n",
        "        transforms.Resize((224,224)), #resize each image pixel size to 224 by 224\n",
        "        transforms.RandomHorizontalFlip(), #flip image horizonatally\n",
        "        transforms.ColorJitter(), #applies colour transformation\n",
        "        transforms.RandomRotation(30), #rotates image at angle of 30 degree\n",
        "        transforms.ToTensor(), #converts to pytorch sensor\n",
        "        transforms.Normalize([0.5, 0.5, 0.5], [0.5, 0.5, 0.5]) #normalizing each channel in the converted data\n",
        "    ])\n",
        "}"
      ]
    },
    {
      "cell_type": "code",
      "execution_count": null,
      "metadata": {
        "colab": {
          "base_uri": "https://localhost:8080/"
        },
        "id": "prAC47kqPE-V",
        "outputId": "20512890-fa6c-48d6-de89-eb3c93545aab"
      },
      "outputs": [
        {
          "output_type": "stream",
          "name": "stdout",
          "text": [
            "Training dataset:  1260\n",
            "Validation dataset:  270\n"
          ]
        }
      ],
      "source": [
        "data = {\n",
        "    'training_transform': datasets.ImageFolder(root=train_dataset, transform=image_transforms['training_transform']),\n",
        "    'validation_transform': datasets.ImageFolder(root=val_dataset, transform=image_transforms['validation_transform'])\n",
        "}\n",
        "\n",
        "\n",
        "\n",
        "print(\"Training dataset: \", len(data['training_transform']))\n",
        "print(\"Validation dataset: \", len(data['validation_transform']))\n"
      ]
    },
    {
      "cell_type": "code",
      "execution_count": null,
      "metadata": {
        "id": "PRgK3Z3CPcLM"
      },
      "outputs": [],
      "source": [
        "BATCH_SIZE = 32\n",
        "NUM_CLASSES = 6\n",
        "\n",
        "load_training_transform = DataLoader(data['training_transform'], batch_size = BATCH_SIZE, shuffle=True)\n",
        "load_training_validation = DataLoader(data['validation_transform'], batch_size = BATCH_SIZE, shuffle=True)"
      ]
    },
    {
      "cell_type": "code",
      "execution_count": null,
      "metadata": {
        "id": "IHjLObHuQPLH"
      },
      "outputs": [],
      "source": [
        "#loading pre-trained model\n",
        "device = torch.device(\"cuda:0\" if torch.cuda.is_available() else \"cpu\") #check available device GPU/CPU and run on allocated avaiable device.\n",
        "#print(device)\n",
        "model = models.resnet50(pretrained = True).to(device) #load resnet-50 and move to specified device GPU/CPU\n",
        "summary(model, (3, 224, 224)) #display resnet-50 model architecture including trainable parameters"
      ]
    },
    {
      "cell_type": "code",
      "execution_count": null,
      "metadata": {
        "id": "s6rsC4VeEIST"
      },
      "outputs": [],
      "source": [
        "#building model\n",
        "\n",
        "for param in model.parameters(): #loop through resnet-50 parameters\n",
        "  param.requires_grad = False #set required grad to false. freezes all pretrained\n",
        "                              #layers in the pretrained model\n",
        "\n",
        "feature_num = model.fc.in_features #extract resnet-50 feature inputs\n",
        "\n",
        "#initates customised FC sequence\n",
        "#activation function\n",
        "model.fc = nn.Sequential(\n",
        "    nn.Linear(feature_num, 256),\n",
        "    nn.ReLU(),\n",
        "    nn.Dropout(p=0.5),\n",
        "    nn.Linear(256, 128),\n",
        "    nn.ReLU(),\n",
        "    nn.Dropout(p=0.5),\n",
        "    nn.Linear(128, 64),\n",
        "    nn.ReLU(),\n",
        "    nn.Dropout(p=0.5),\n",
        "    nn.Linear(64, NUM_CLASSES)\n",
        ")\n",
        "\n",
        "# pre-trained resnet-50 layers and customised layers to device\n",
        "model = model.to(device)\n",
        "summary(model, (3, 224, 224))"
      ]
    },
    {
      "cell_type": "code",
      "execution_count": null,
      "metadata": {
        "id": "IzVXRh5aOliR"
      },
      "outputs": [],
      "source": [
        "#using cross entropy to calculate loss function\n",
        "#optimisers using stochastic gradient descent\n",
        "loss_function = torch.nn.CrossEntropyLoss()\n",
        "grad_des = torch.optim.SGD(model.fc.parameters(), lr=0.001, momentum=0.9)"
      ]
    },
    {
      "cell_type": "code",
      "execution_count": null,
      "metadata": {
        "id": "roFYUG59YYuz"
      },
      "outputs": [],
      "source": [
        "epoch_number = 30 #declare epoch number\n",
        "loss_tr = [] #declaree \"loss_tr\" as list\n",
        "loss_val = [] #declaree \"loss_val\" as list\n",
        "\n",
        "for epoch in range(epoch_number): #loop through number of epoch\n",
        "    losses_tr = 0 #initlize losses_tr to 0\n",
        "    losses_val = 0 #initlize losses_val to 0\n",
        "\n",
        "    #mModel training loop\n",
        "    #model is trained in batches of images\n",
        "    #Based on the training parameters are updated using loss calculation\n",
        "    #then calculate average loss\n",
        "    #this is also the case for the validation dataset\n",
        "    model.train()\n",
        "    for images, labels in load_training_transform:\n",
        "      images = images.to(device)\n",
        "      labels = labels.to(device)\n",
        "      grad_des.zero_grad()\n",
        "      outputs = model(images)\n",
        "      loss = loss_function(outputs, labels)\n",
        "      loss.backward()\n",
        "      grad_des.step()\n",
        "      losses_tr += loss.item() * images.size(0)\n",
        "      losses_tr /= len(load_training_transform.dataset)\n",
        "      loss_tr.append(losses_tr)\n",
        "\n",
        "    # loop for validation training\n",
        "    model.eval()\n",
        "    for images, labels in load_training_validation:\n",
        "      images = images.to(device)\n",
        "      labels = labels.to(device)\n",
        "      outputs = model(images)\n",
        "      loss = loss_function(outputs, labels)\n",
        "      losses_val += loss.item() * images.size(0)\n",
        "      losses_val /= len(load_training_validation.dataset)\n",
        "      loss_val.append(losses_val)\n",
        "\n",
        "    # Print number of epoch trainied + training loss and validation loss\n",
        "    print(f'Epoch [{epoch + 1}/{epoch_number}], Training Loss: {losses_tr:.4f}, Validation Loss: {losses_val:.4f}')\n"
      ]
    },
    {
      "cell_type": "code",
      "execution_count": null,
      "metadata": {
        "id": "vJs-VhyK9_TD"
      },
      "outputs": [],
      "source": [
        "plt.figure(figsize=(10,5))\n",
        "plt.title(\"Validation Loss\")\n",
        "#plt.plot(loss_tr,label=\"train\")\n",
        "plt.plot(loss_val, 'g', label=\"Validation\")\n",
        "plt.xlabel(\"Epochs\")\n",
        "plt.ylabel(\"Loss\")\n",
        "plt.legend()\n",
        "plt.show()"
      ]
    },
    {
      "cell_type": "code",
      "execution_count": null,
      "metadata": {
        "id": "8JN5h3Et-pCS"
      },
      "outputs": [],
      "source": [
        "plt.figure(figsize=(10,5))\n",
        "plt.title(\"Training Loss\")\n",
        "plt.plot(loss_tr,label=\"train\")\n",
        "#plt.plot(loss_val,label=\"Validation\")\n",
        "plt.xlabel(\"Epochs\")\n",
        "plt.ylabel(\"Loss\")\n",
        "plt.legend()\n",
        "plt.show()"
      ]
    },
    {
      "cell_type": "code",
      "execution_count": null,
      "metadata": {
        "colab": {
          "base_uri": "https://localhost:8080/"
        },
        "id": "W8vKZ6dTF8CQ",
        "outputId": "25b1d9c5-131e-4aca-e772-a02c45fc2cfa"
      },
      "outputs": [
        {
          "output_type": "stream",
          "name": "stdout",
          "text": [
            "Model Accuracy: 95.93 %\n"
          ]
        }
      ],
      "source": [
        "test_Model = transforms.Compose([ #initate muliple transformation which be chained\n",
        "    transforms.Resize((224,224)), #resize image to size 224 by 224 pixels\n",
        "    transforms.ToTensor(),#converts to pytorch sensor\n",
        "    transforms.Normalize([0.5, 0.5, 0.5], [0.5, 0.5, 0.5]) #normalizing each channel in the converted data\n",
        "])\n",
        "\n",
        "testing = datasets.ImageFolder(test_dataset, transform=test_Model) #load and classify image from testing dataset\n",
        "load_testing = DataLoader(testing, batch_size=32, shuffle=True)#create dataloader and process in batches of 32 using testing data as input\n",
        "\n",
        "model.eval()#set model in evaluation mode\n",
        "\n",
        "with torch.no_grad(): #speed up evaluation process by disabling gradient calculation\n",
        "    correct = 0 #intialise correct to 0\n",
        "    total = 0 #intialise total to 0\n",
        "    y_prediction = [] #define/create y_pred as a list\n",
        "    trueY = [] #define/create trueY as a list\n",
        "    for images, labels in load_testing: #loop over the load_testing folder\n",
        "        images = images.to(device) #moves images to device\n",
        "        labels = labels.to(device) #moves labels to device\n",
        "        outputs = model(images) #passes images in batches to model\n",
        "        _, predicted = torch.max(outputs.data, 1) #predict classvia finding class indices\n",
        "        total += labels.size(0) #increment count by 32 =  batch size\n",
        "        correct += (predicted == labels).sum().item() #calculate correctly predicted images in the batch\n",
        "        y_prediction.extend(predicted.cpu().numpy()) #append to list\n",
        "        trueY.extend(labels.cpu().numpy()) #append to list\n",
        "\n",
        "    print('Model Accuracy: {} %'.format(round((100 * correct / total),2))) #calculate and print model percentrage accuracy"
      ]
    },
    {
      "cell_type": "code",
      "execution_count": null,
      "metadata": {
        "colab": {
          "base_uri": "https://localhost:8080/",
          "height": 713
        },
        "id": "qSEZQxe5rQwG",
        "outputId": "dd8bbb66-ab65-4e4b-9920-5c7b9515f280"
      },
      "outputs": [
        {
          "output_type": "display_data",
          "data": {
            "text/plain": [
              "<Figure size 1000x500 with 2 Axes>"
            ],
            "image/png": "[encoded data removed]"
          },
          "metadata": {}
        },
        {
          "output_type": "stream",
          "name": "stdout",
          "text": [
            "              precision    recall  f1-score   support\n",
            "\n",
            "     Crazing       1.00      0.98      0.99        45\n",
            "      Pitted       0.83      0.98      0.90        45\n",
            "     Patches       1.00      1.00      1.00        45\n",
            "   Inclusion       0.98      1.00      0.99        45\n",
            "      Rolled       0.98      1.00      0.99        45\n",
            "   Scratches       1.00      0.80      0.89        45\n",
            "\n",
            "    accuracy                           0.96       270\n",
            "   macro avg       0.96      0.96      0.96       270\n",
            "weighted avg       0.96      0.96      0.96       270\n",
            "\n"
          ]
        }
      ],
      "source": [
        "# Plot confusion matrix\n",
        "conf_max = confusion_matrix(trueY, y_prediction)\n",
        "plt.figure(figsize=(10,5))\n",
        "sns.heatmap(conf_max, annot=True, fmt='d', cmap='Blues', xticklabels=CLASS_NAMES, yticklabels=CLASS_NAMES)\n",
        "plt.title('Confusion Matrix Plot')\n",
        "plt.ylabel('True Label')\n",
        "plt.xlabel('Predicted Label')\n",
        "plt.show()\n",
        "\n",
        "\n",
        "print(classification_report(trueY, y_prediction, target_names=CLASS_NAMES))"
      ]
    },
    {
      "cell_type": "markdown",
      "metadata": {
        "id": "c8eO2IlHRou8"
      },
      "source": [
        "# New Section"
      ]
    }
  ],
  "metadata": {
    "colab": {
      "provenance": [],
      "authorship_tag": "ABX9TyPuPSYrnEkxeC229uorrknF",
      "include_colab_link": true
    },
    "kernelspec": {
      "display_name": "Python 3",
      "name": "python3"
    },
    "language_info": {
      "name": "python"
    }
  },
  "nbformat": 4,
  "nbformat_minor": 0
}